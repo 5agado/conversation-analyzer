{
 "cells": [
  {
   "cell_type": "markdown",
   "metadata": {},
   "source": [
    "# Table of Contents\n",
    "* [Intro](#Intro)\n",
    "* [Basic length stats](#Basic-length-stats)\n",
    "* [Interval Stats](#Interval-Stats)\n",
    "* [Lexical Stats](#Lexical-Stats)\n",
    "* [Emoticons Stats](#Emoticons-Stats)\n"
   ]
  },
  {
   "cell_type": "markdown",
   "metadata": {},
   "source": [
    "# Intro"
   ]
  },
  {
   "cell_type": "markdown",
   "metadata": {},
   "source": [
    "This notebook explores the basic avaiable conversation stats together with their visualization."
   ]
  },
  {
   "cell_type": "code",
   "execution_count": null,
   "metadata": {
    "collapsed": false
   },
   "outputs": [],
   "source": [
    "%matplotlib notebook\n",
    "#%load_ext autoreload\n",
    "#%autoreload 2\n",
    "\n",
    "import os\n",
    "import seaborn as sns\n",
    "import sys\n",
    "sys.path.append(os.path.join(os.getcwd(), \"src\"))\n",
    "\n",
    "import util.io as mio\n",
    "import util.plotting as mplot\n",
    "from model.conversationDataframe import ConversationDataframe\n",
    "from stats.iConvStats import IConvStats"
   ]
  },
  {
   "cell_type": "code",
   "execution_count": null,
   "metadata": {
    "collapsed": true
   },
   "outputs": [],
   "source": [
    "# filepath to your conversation file. You can use my conversations examples for testing\n",
    "FILEPATH = \"src/resources/unittest/test_plotting.txt\""
   ]
  },
  {
   "cell_type": "code",
   "execution_count": null,
   "metadata": {
    "collapsed": true
   },
   "outputs": [],
   "source": [
    "conv = ConversationDataframe(FILEPATH)\n",
    "conv.loadMessages()"
   ]
  },
  {
   "cell_type": "markdown",
   "metadata": {},
   "source": [
    "# Basic length stats"
   ]
  },
  {
   "cell_type": "code",
   "execution_count": null,
   "metadata": {
    "collapsed": false
   },
   "outputs": [],
   "source": [
    "basicLengthStats = conv.stats.generateStats(IConvStats.STATS_NAME_BASICLENGTH)\n",
    "basicLengthStats"
   ]
  },
  {
   "cell_type": "code",
   "execution_count": null,
   "metadata": {
    "collapsed": false
   },
   "outputs": [],
   "source": [
    "data = conv.stats.generateStatsByYearAndMonth(IConvStats.STATS_NAME_BASICLENGTH)\n",
    "#data = data[data.sender != 'total']\n",
    "mplot.plotBasicLengthStatsByYearAndMonth(data, ['2015'])"
   ]
  },
  {
   "cell_type": "code",
   "execution_count": null,
   "metadata": {
    "collapsed": false
   },
   "outputs": [],
   "source": [
    "data = conv.stats.generateStatsByHour(IConvStats.STATS_NAME_BASICLENGTH)\n",
    "data = data[data.sender != 'total']\n",
    "mplot.plotSingleBasicLengthStatByHour(data, 'lenMsgs')"
   ]
  },
  {
   "cell_type": "code",
   "execution_count": null,
   "metadata": {
    "collapsed": false
   },
   "outputs": [],
   "source": [
    "data = conv.stats.generateStatsByYearAndMonth(IConvStats.STATS_NAME_BASICLENGTH)\n",
    "data = data[data.sender != 'total']\n",
    "mplot.plotSingleBasicLengthStatByYearAndMonth(data, 'lenMsgs')"
   ]
  },
  {
   "cell_type": "code",
   "execution_count": null,
   "metadata": {
    "collapsed": false
   },
   "outputs": [],
   "source": [
    "data = conv.stats.generateStatsByYearMonthDay(IConvStats.STATS_NAME_BASICLENGTH)\n",
    "data = data.loc[data['sender'] == 'total']\n",
    "mplot.plotSingleBasicLengthStatHeatmap(data, 'lenMsgs', ['2015'])"
   ]
  },
  {
   "cell_type": "markdown",
   "metadata": {},
   "source": [
    "# Interval Stats"
   ]
  },
  {
   "cell_type": "code",
   "execution_count": null,
   "metadata": {
    "collapsed": false
   },
   "outputs": [],
   "source": [
    "start, end, interval = conv.stats.getIntervalStats()\n",
    "days = conv.stats.getDaysWithoutMessages()\n",
    "print(\"Conversation started: {}\".format(str(start)))\n",
    "print(\"Conversation ended: {}\".format(str(end)))\n",
    "print(\"Conversation overall duration: {}\".format(interval))\n",
    "\n",
    "print(\"{:.0f} days without messages\".format(len(days)))\n",
    "percentage = (len(days)/(interval.days+1))*100\n",
    "print(\"{0:.2f}% out of the conversation overall days-interval\".format(percentage))"
   ]
  },
  {
   "cell_type": "markdown",
   "metadata": {},
   "source": [
    "# Lexical Stats"
   ]
  },
  {
   "cell_type": "code",
   "execution_count": null,
   "metadata": {
    "collapsed": false
   },
   "outputs": [],
   "source": [
    "lexicalStats = conv.stats.generateStats(IConvStats.STATS_NAME_LEXICAL)\n",
    "lexicalStats"
   ]
  },
  {
   "cell_type": "code",
   "execution_count": null,
   "metadata": {
    "collapsed": false
   },
   "outputs": [],
   "source": [
    "data = conv.stats.generateStatsByYearAndMonth(IConvStats.STATS_NAME_LEXICAL)\n",
    "mplot.plotRichnessVariation(data)"
   ]
  },
  {
   "cell_type": "markdown",
   "metadata": {},
   "source": [
    "# Emoticons Stats"
   ]
  },
  {
   "cell_type": "code",
   "execution_count": null,
   "metadata": {
    "collapsed": false
   },
   "outputs": [],
   "source": [
    "stats = conv.stats.generateStats(IConvStats.STATS_NAME_EMOTICONS)\n",
    "stats\n",
    "#mio.printEmoticonsStats(stats)"
   ]
  }
 ],
 "metadata": {
  "anaconda-cloud": {},
  "kernelspec": {
   "display_name": "Python [conda env:kaggle]",
   "language": "python",
   "name": "conda-env-kaggle-py"
  },
  "toc": {
   "colors": {
    "hover_highlight": "#DAA520",
    "running_highlight": "#FF0000",
    "selected_highlight": "#FFD700"
   },
   "moveMenuLeft": true,
   "nav_menu": {
    "height": "105px",
    "width": "252px"
   },
   "navigate_menu": true,
   "number_sections": true,
   "sideBar": true,
   "threshold": 4,
   "toc_cell": false,
   "toc_section_display": "block",
   "toc_window_display": false
  }
 },
 "nbformat": 4,
 "nbformat_minor": 0
}
