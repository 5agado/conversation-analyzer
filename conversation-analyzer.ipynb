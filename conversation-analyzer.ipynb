{
 "cells": [
  {
   "cell_type": "code",
   "execution_count": null,
   "metadata": {
    "collapsed": false
   },
   "outputs": [],
   "source": [
    "%matplotlib notebook\n",
    "#%load_ext autoreload\n",
    "#%autoreload 2\n",
    "\n",
    "import os\n",
    "import seaborn as sns\n",
    "import sys\n",
    "sys.path.append(os.path.join(os.getcwd(), \"src\"))\n",
    "\n",
    "import util.io as mio\n",
    "import util.plotting as mplot\n",
    "from model.conversationDataframe import ConversationDataframe\n",
    "from stats.iConvStats import IConvStats"
   ]
  },
  {
   "cell_type": "code",
   "execution_count": null,
   "metadata": {
    "collapsed": true
   },
   "outputs": [],
   "source": [
    "#Set this var to point to your conversation file. You can use my conversations examples for testing\n",
    "FILEPATH = \"src/resources/unittest/test_plotting.txt\""
   ]
  },
  {
   "cell_type": "code",
   "execution_count": null,
   "metadata": {
    "collapsed": true
   },
   "outputs": [],
   "source": [
    "conv = ConversationDataframe(FILEPATH)\n",
    "conv.loadMessages()"
   ]
  },
  {
   "cell_type": "markdown",
   "metadata": {},
   "source": [
    "### **Basic length stats**"
   ]
  },
  {
   "cell_type": "code",
   "execution_count": null,
   "metadata": {
    "collapsed": false
   },
   "outputs": [],
   "source": [
    "basicLengthStats = conv.stats.generateStats(IConvStats.STATS_NAME_BASICLENGTH)\n",
    "basicLengthStats"
   ]
  },
  {
   "cell_type": "code",
   "execution_count": null,
   "metadata": {
    "collapsed": false
   },
   "outputs": [],
   "source": [
    "data = conv.stats.generateStatsByYearAndMonth(IConvStats.STATS_NAME_BASICLENGTH)\n",
    "#data = data[data.sender != 'total']\n",
    "mplot.plotBasicLengthStatsByYearAndMonth(data, ['2015'])"
   ]
  },
  {
   "cell_type": "code",
   "execution_count": null,
   "metadata": {
    "collapsed": false
   },
   "outputs": [],
   "source": [
    "data = conv.stats.generateStatsByHour(IConvStats.STATS_NAME_BASICLENGTH)\n",
    "data = data[data.sender != 'total']\n",
    "mplot.plotSingleBasicLengthStatByHour(data, 'lenMsgs')"
   ]
  },
  {
   "cell_type": "code",
   "execution_count": null,
   "metadata": {
    "collapsed": false
   },
   "outputs": [],
   "source": [
    "data = conv.stats.generateStatsByYearAndMonth(IConvStats.STATS_NAME_BASICLENGTH)\n",
    "data = data[data.sender != 'total']\n",
    "mplot.plotSingleBasicLengthStatByYearAndMonth(data, 'lenMsgs')"
   ]
  },
  {
   "cell_type": "code",
   "execution_count": null,
   "metadata": {
    "collapsed": false
   },
   "outputs": [],
   "source": [
    "data = conv.stats.generateStatsByYearMonthDay(IConvStats.STATS_NAME_BASICLENGTH)\n",
    "data = data.loc[data['sender'] == 'total']\n",
    "mplot.plotSingleBasicLengthStatHeatmap(data, 'lenMsgs', ['2015'])"
   ]
  },
  {
   "cell_type": "markdown",
   "metadata": {},
   "source": [
    "### Interval Stats"
   ]
  },
  {
   "cell_type": "code",
   "execution_count": null,
   "metadata": {
    "collapsed": false
   },
   "outputs": [],
   "source": [
    "start, end, interval = conv.stats.getIntervalStats()\n",
    "days = conv.stats.getDaysWithoutMessages()\n",
    "print(\"Conversation started: {}\".format(str(start)))\n",
    "print(\"Conversation ended: {}\".format(str(end)))\n",
    "print(\"Conversation overall duration: {}\".format(interval))\n",
    "\n",
    "print(\"{:.0f} days without messages\".format(len(days)))\n",
    "percentage = (len(days)/(interval.days+1))*100\n",
    "print(\"{0:.2f}% out of the conversation overall days-interval\".format(percentage))"
   ]
  },
  {
   "cell_type": "markdown",
   "metadata": {},
   "source": [
    "### Lexical Stats"
   ]
  },
  {
   "cell_type": "code",
   "execution_count": null,
   "metadata": {
    "collapsed": false
   },
   "outputs": [],
   "source": [
    "lexicalStats = conv.stats.generateStats(IConvStats.STATS_NAME_LEXICAL)\n",
    "lexicalStats"
   ]
  },
  {
   "cell_type": "code",
   "execution_count": null,
   "metadata": {
    "collapsed": false
   },
   "outputs": [],
   "source": [
    "data = conv.stats.generateStatsByYearAndMonth(IConvStats.STATS_NAME_LEXICAL)\n",
    "mplot.plotRichnessVariation(data)"
   ]
  },
  {
   "cell_type": "markdown",
   "metadata": {},
   "source": [
    "### Words Count"
   ]
  },
  {
   "cell_type": "code",
   "execution_count": null,
   "metadata": {
    "collapsed": false
   },
   "outputs": [],
   "source": [
    "#filepath = conv.statsFolder + '\\\\' + 'wordCount.txt'\n",
    "stats = conv.stats.generateStats(IConvStats.STATS_NAME_WORDCOUNT)\n",
    "stats.head()\n",
    "#mio.printDataFrameToFile(stats, filepath)"
   ]
  },
  {
   "cell_type": "code",
   "execution_count": null,
   "metadata": {
    "collapsed": false
   },
   "outputs": [],
   "source": [
    "words = ['the', 'hello', 'a', 'when']\n",
    "data = conv.stats.generateStatsByYearAndMonth(IConvStats.STATS_NAME_WORDCOUNT)\n",
    "data = data.reset_index()\n",
    "mplot.plotWordsUsage(data, words, ['2014'])"
   ]
  },
  {
   "cell_type": "markdown",
   "metadata": {},
   "source": [
    "### Words Used just by"
   ]
  },
  {
   "cell_type": "code",
   "execution_count": null,
   "metadata": {
    "collapsed": true
   },
   "outputs": [],
   "source": [
    "#mio.printWordsUsedJustByToFile(conv)"
   ]
  },
  {
   "cell_type": "markdown",
   "metadata": {},
   "source": [
    "### Emoticons Stats"
   ]
  },
  {
   "cell_type": "code",
   "execution_count": null,
   "metadata": {
    "collapsed": false
   },
   "outputs": [],
   "source": [
    "stats = conv.stats.generateStats(IConvStats.STATS_NAME_EMOTICONS)\n",
    "stats\n",
    "#mio.printEmoticonsStats(stats)"
   ]
  },
  {
   "cell_type": "code",
   "execution_count": null,
   "metadata": {
    "collapsed": true
   },
   "outputs": [],
   "source": []
  }
 ],
 "metadata": {
  "anaconda-cloud": {},
  "kernelspec": {
   "display_name": "Python [default]",
   "language": "python",
   "name": "python3"
  },
  "language_info": {
   "codemirror_mode": {
    "name": "ipython",
    "version": 3
   },
   "file_extension": ".py",
   "mimetype": "text/x-python",
   "name": "python",
   "nbconvert_exporter": "python",
   "pygments_lexer": "ipython3",
   "version": "3.4.5"
  }
 },
 "nbformat": 4,
 "nbformat_minor": 0
}
